{
 "cells": [
  {
   "cell_type": "markdown",
   "metadata": {},
   "source": [
    "# Introduction to Machine Learning\n",
    "So; usually when most of us hear the concept of machine learning we imagine the future. Advanced artificial intelligence so lifelike that it may even be confused for a human; maybe we think about Skynet or some other distopian AI which makes cold and calculating choices for the \"benefit\" of mankind. Truth to be told; machine learning is not the future; it's the present and it's way closer than you can imagine.\n",
    "\n",
    "Machine Learning is by definition; a field in which the computer learns rules that aren't programmed explicitly to it. Now; how is that any different from us writing the rules by hand? Let's take for example one of the most widespread application of machine learning which is SPAM mail detection and how we would solve it explicitly and with machine learning.\n",
    "\n",
    "If we were to program the algorithm by hand; we would read the e-mails, make a list of the most frequent words that come in spam mails and then write the following statement.\n",
    "\n",
    "if word in spam_list:\n",
    "    mail=spam\n",
    "\n",
    "Why is that an explicit rule? Because that rule wasn't made by our computer; we just wrote it there for it, that means that if for some reason the e-mail pattern changes the rules can only be updated by ourselves. \n",
    "\n",
    "If we did a spam e-mail filter were to be done using machine learning algorithms; first it would need a sample of data to train on (plaintext e-mails and label whether it's spam or not). The next step would be to transform the data into features which the computer is able to understand and finally; a model would be trained on said data and we would be able to predict future spam e-mails using the rules obtained from the data.\n",
    "\n",
    "Not only that; but this model can also be trained on new future data and therefore, it can adapt to changes done by spam email senders. \n",
    "\n",
    "### Two types of machine learning algorithms\n",
    "Supervised learning: In this type of learning we have our variables or features along with a label (that means that we have the answer and or prediction we want to find out). In this case we divide our dataset into training and testing set\n",
    "\n",
    "Unsupervised Learning: In this kind of learning we don't provide any input (labels) to the computer; therefore, the computer attempts to learn blindly and find certain relationships between the variables. In this category we have:\n",
    "\n",
    "Clustering: A way to find additional groups and segments inside a dataset; by viewing the distributions of vari\n",
    "\n",
    "Association Rule Learning: Instead of focusing on dividing the data points on one cluster each; this type of unsupervised learning focuses on closely related yet different points. Ex: Viewers who saw this product also saw.\n",
    "\n",
    "### How does a machine learning process look?\n",
    "\n",
    "Step 1: Find the problem you want to solve. (Ex: I want to increase earnings of the bank).\n",
    "\n",
    "Step 2: Break it down into smaller pieces; find a way to go from a really general problem into a particular one that allows for machine learning. Ex: I want to increase earnings -> I want to reduce credit defaults -> I want to find a better way to determine who will default on their debt.\n",
    "\n",
    "Step 3:"
   ]
  },
  {
   "cell_type": "markdown",
   "metadata": {},
   "source": [
    "## Feature engineering and extraction\n",
    "So; "
   ]
  },
  {
   "cell_type": "markdown",
   "metadata": {},
   "source": [
    "## Higher dimensional K-Means.\n",
    "In the previous example we ran the k-means algorithm by hand "
   ]
  }
 ],
 "metadata": {
  "kernelspec": {
   "display_name": "Python 3",
   "language": "python",
   "name": "python3"
  },
  "language_info": {
   "codemirror_mode": {
    "name": "ipython",
    "version": 3
   },
   "file_extension": ".py",
   "mimetype": "text/x-python",
   "name": "python",
   "nbconvert_exporter": "python",
   "pygments_lexer": "ipython3",
   "version": "3.7.3"
  }
 },
 "nbformat": 4,
 "nbformat_minor": 2
}

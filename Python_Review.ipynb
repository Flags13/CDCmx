{
 "cells": [
  {
   "cell_type": "markdown",
   "metadata": {},
   "source": [
    "# Python Review\n",
    "Welcome! First of all; this document is meant to serve as a complement to your previous knowledge obtained from the khan academy videos not a supplement. Though the notebook will be written to be as clear as possible; some previous programming experience is recommended in order to understand this notebook with greater ease.\n",
    "\n",
    "## What is Python?\n",
    "Python is an interpreted, high-level general-purpose programming language.\n",
    "\n",
    "Interpreted: This means the code done on Python can be run by the interpreter directly rather than being compiled into machine language code and then executed.\n",
    "\n",
    "High-level: Usually represents how abstracted the syntax is from computer language or how similar it is to natural language (our language). High level means its syntax is very user-friendly (even among high level languages Python is known to have a very friendly syntax).\n",
    "\n",
    "General-purpose: It can be used on many applications; from website development to mobile applications (Just because something is general purpose doesn't mean it SHOULD be used on everything).\n",
    "\n",
    "In short; Python is a programming language that is very easy to learn (due to friendly syntax), simple to run (we have an interpreter) that can allows us to work in various fields and applications due to its versatility (general purpose). Currently; this language is among the top 3 most popular in the world and it owes this position to its open-source status meaning that anyone can contribute to the proyect with their own packages. \n",
    "\n",
    "## Now we start the review. Variables and basic arithmetic.\n",
    "A variable is a way that data can be stored and referenced in a program; this data can vary greately from variable to variable and it's usually essential for the functioning of the program. For the user of the program that's pretty much it but for the programmer it also provides labels to the data in order to make the code more readable (this is something crucial not just in Python but in any language). "
   ]
  },
  {
   "cell_type": "code",
   "execution_count": 1,
   "metadata": {},
   "outputs": [
    {
     "name": "stdout",
     "output_type": "stream",
     "text": [
      "5\n",
      "4\n",
      "not a number!\n",
      "Hello!\n"
     ]
    }
   ],
   "source": [
    "# Anything written beside the numeral sign is a comment.\n",
    "'''\n",
    "This is a multi-line\n",
    "comment\n",
    "'''\n",
    "\n",
    "# Define and set a variable in one line: name, equals sign, then value.\n",
    "number = 5\n",
    "\n",
    "# The print command displays the value of its argument after the cell runs.\n",
    "print(number)\n",
    "\n",
    "# If we reassign the value of the variable, it \"forgets\" it's previous value\n",
    "number = 4\n",
    "print(number)\n",
    "\n",
    "# Python variables can have multiple types. Confusingly we can set number to a value that is not a number.\n",
    "number = 'not a number!'\n",
    "print(number)\n",
    "\n",
    "# Generally it's good to give variables clearer names.\n",
    "# Strings can be defined with single quotes (as above) or double quotes (like below).\n",
    "text = \"Hello!\"\n",
    "print(text)"
   ]
  },
  {
   "cell_type": "code",
   "execution_count": 2,
   "metadata": {},
   "outputs": [
    {
     "name": "stdout",
     "output_type": "stream",
     "text": [
      "a = 21.4\n",
      "b = 10.1\n",
      "\n",
      "a + b = 31.5\n",
      "a - b = 11.299999999999999\n",
      "a - b = 11.3\n",
      "a * b = 216.14\n",
      "a / b = 2.118811881188119\n",
      "a^2 = 457.9599999999999\n",
      "a % 6 = 3.3999999999999986\n"
     ]
    }
   ],
   "source": [
    "### Basic Arithmetic operations and printing along the way. \n",
    "\n",
    "# Save some variables to do basic math with. \n",
    "a = 21.4\n",
    "b = 10.1\n",
    "print('a =', a)\n",
    "print('b =', b)\n",
    "\n",
    "# Empty print command prints a new line\n",
    "print() \n",
    "\n",
    "# Addition\n",
    "c = a + b\n",
    "print('a + b =', c)\n",
    "\n",
    "# Subtraction\n",
    "c = a - b\n",
    "print('a - b =', c)\n",
    "\n",
    "# Subtraction + rounding to 3 decimal places\n",
    "# Notice that you can combine an arithmetic operation (subtraction) with a function call (rounding)\n",
    "# in one line of code. \n",
    "c = round(a - b, 3)\n",
    "print('a - b =', c)\n",
    "\n",
    "# Multiplication\n",
    "c = a*b\n",
    "print('a * b =', c)\n",
    "\n",
    "# Division\n",
    "c = a/b\n",
    "print('a / b =', c)\n",
    "\n",
    "# Exponents\n",
    "print('a^2 =', a**2)\n",
    "\n",
    "# Modulus\n",
    "print('a % 6 =', a % 6)"
   ]
  },
  {
   "cell_type": "markdown",
   "metadata": {},
   "source": [
    "The order of operations is the same as we have been taught in elementary school; Parenthesis, Exponent, Multiplication, Division, Addition and Subtraction. If you would like to verify that it's the case then you can start by using the Python cells to try out your own equations!\n",
    "\n",
    "### Exercises\n",
    "\n",
    "Calculate the solution to these problems using Python and verify the answers (round the answers to the most significant digit).\n",
    "\\begin{align}\n",
    "(5*(10+2)\\div 30)^2=4 \\\\ (5-25)^2+3-2*9=385 \\\\ (42.3*17.2)^{1.5}-66.5 \\approx 19558.2 \n",
    "\\end{align}"
   ]
  },
  {
   "cell_type": "code",
   "execution_count": 3,
   "metadata": {},
   "outputs": [
    {
     "name": "stdout",
     "output_type": "stream",
     "text": [
      "4.0\n",
      "385\n",
      "19558.20880948851\n"
     ]
    }
   ],
   "source": [
    "print((5 * (10 + 2) / 30)**2)\n",
    "print((5 - 25)**2 + 3 - 2*9)\n",
    "print((42.3 * 17.2)**1.5 - 66.5)"
   ]
  },
  {
   "cell_type": "markdown",
   "metadata": {},
   "source": [
    "## A more complete perspective on variables.\n",
    "\n",
    "We have defined previously that a variable is something used to store and reference information and while that is true; it's often useful to abstract the concept of a variable into something more familiar like an object (If anyone here has seen object oriented programming, this is equivalent to the pre-pre-introduction and you can skip this section). \n",
    "\n",
    "An object in the simplest sense is something that is labeled, has certain properties and can be manipulated in certain ways. Of course this definition is lacking for many objects but for the \"objects\" we see in programming this suffices; the variable has a lable that depends on the data type it contains within, in order to see this label we use the type function in Python with 3 different variable types to see what it is."
   ]
  },
  {
   "cell_type": "code",
   "execution_count": 4,
   "metadata": {},
   "outputs": [
    {
     "name": "stdout",
     "output_type": "stream",
     "text": [
      "l = [3, 4.3, 'Hello']\n",
      "\n",
      "type(x) = <class 'int'>\n",
      "type(y) = <class 'float'>\n",
      "type(z) = <class 'str'>\n",
      "type(l) = <class 'list'>\n"
     ]
    }
   ],
   "source": [
    "# Let's start by defining 3 different variables, a value is assigned to a variable using the equal sign.\n",
    "x = 3\n",
    "y = 4.3\n",
    "z = \"Hello\"\n",
    "\n",
    "# l is a list\n",
    "l = [x, y, z]\n",
    "print(\"l =\", l)\n",
    "print()\n",
    "\n",
    "# The \"type\" command will tell you what the type of a variable is. Usually you will know already because we set it. \n",
    "print('type(x) =', type(x))\n",
    "print('type(y) =', type(y))\n",
    "print('type(z) =', type(z))\n",
    "print('type(l) =', type(l))"
   ]
  },
  {
   "cell_type": "code",
   "execution_count": 5,
   "metadata": {},
   "outputs": [
    {
     "name": "stdout",
     "output_type": "stream",
     "text": [
      "x + y = 7.3\n",
      "[3, 4.3, 'Hello', 'Goodbye', 'See you later']\n"
     ]
    },
    {
     "ename": "TypeError",
     "evalue": "unsupported operand type(s) for +: 'int' and 'str'",
     "output_type": "error",
     "traceback": [
      "\u001b[0;31m---------------------------------------------------------------------------\u001b[0m",
      "\u001b[0;31mTypeError\u001b[0m                                 Traceback (most recent call last)",
      "\u001b[0;32m<ipython-input-5-da33f5486918>\u001b[0m in \u001b[0;36m<module>\u001b[0;34m()\u001b[0m\n\u001b[1;32m      9\u001b[0m \u001b[0;34m\u001b[0m\u001b[0m\n\u001b[1;32m     10\u001b[0m \u001b[0;31m# Can't add x + z because it is not clear what it means to add a string to an integer.\u001b[0m\u001b[0;34m\u001b[0m\u001b[0;34m\u001b[0m\u001b[0m\n\u001b[0;32m---> 11\u001b[0;31m \u001b[0mmy_val\u001b[0m \u001b[0;34m=\u001b[0m \u001b[0mx\u001b[0m \u001b[0;34m+\u001b[0m \u001b[0mz\u001b[0m\u001b[0;34m\u001b[0m\u001b[0m\n\u001b[0m\u001b[1;32m     12\u001b[0m \u001b[0;34m\u001b[0m\u001b[0m\n\u001b[1;32m     13\u001b[0m \u001b[0;31m# You will often find that operations only work for certain types. This is something you will learn as you go.\u001b[0m\u001b[0;34m\u001b[0m\u001b[0;34m\u001b[0m\u001b[0m\n",
      "\u001b[0;31mTypeError\u001b[0m: unsupported operand type(s) for +: 'int' and 'str'"
     ]
    }
   ],
   "source": [
    "# Notice that the types of objects affect what we can do with them\n",
    "# Can add x + y even though they have different types - both are numbers. That makes sense.\n",
    "my_val = x + y\n",
    "print('x + y =', my_val)\n",
    "\n",
    "# You can add two lists - it will \"concatenate\" them\n",
    "l2 = [\"Goodbye\", \"See you later\"]\n",
    "print(l + l2)\n",
    "\n",
    "# Can't add x + z because it is not clear what it means to add a string to an integer. \n",
    "my_val = x + z\n",
    "\n",
    "# You will often find that operations only work for certain types. This is something you will learn as you go. "
   ]
  },
  {
   "cell_type": "markdown",
   "metadata": {},
   "source": [
    "Variables often have commands (\"functions\" or \"methods\") associated with them. Strings and lists are good examples of this. If you want to find out which methods are associated with an object there are a couple ways to do it. "
   ]
  },
  {
   "cell_type": "code",
   "execution_count": 6,
   "metadata": {},
   "outputs": [
    {
     "name": "stdout",
     "output_type": "stream",
     "text": [
      "['__add__', '__class__', '__contains__', '__delattr__', '__dir__', '__doc__', '__eq__', '__format__', '__ge__', '__getattribute__', '__getitem__', '__getnewargs__', '__gt__', '__hash__', '__init__', '__init_subclass__', '__iter__', '__le__', '__len__', '__lt__', '__mod__', '__mul__', '__ne__', '__new__', '__reduce__', '__reduce_ex__', '__repr__', '__rmod__', '__rmul__', '__setattr__', '__sizeof__', '__str__', '__subclasshook__', 'capitalize', 'casefold', 'center', 'count', 'encode', 'endswith', 'expandtabs', 'find', 'format', 'format_map', 'index', 'isalnum', 'isalpha', 'isdecimal', 'isdigit', 'isidentifier', 'islower', 'isnumeric', 'isprintable', 'isspace', 'istitle', 'isupper', 'join', 'ljust', 'lower', 'lstrip', 'maketrans', 'partition', 'replace', 'rfind', 'rindex', 'rjust', 'rpartition', 'rsplit', 'rstrip', 'split', 'splitlines', 'startswith', 'strip', 'swapcase', 'title', 'translate', 'upper', 'zfill']\n",
      "\n",
      "z = Hello\n",
      "z.endswith(\"bye\") = False\n",
      "z.endswith(\"llo\") = True\n"
     ]
    }
   ],
   "source": [
    "# You can call dir() on your object to list all the available methods\n",
    "print(dir(z))\n",
    "print()\n",
    "\n",
    "# z is a string and has a function \"endswith\" - lets try it.\n",
    "print('z =', z)\n",
    "print('z.endswith(\"bye\") =', z.endswith(\"bye\"))\n",
    "print('z.endswith(\"llo\") =', z.endswith(\"llo\"))\n",
    "\n",
    "# Side note: you can see above that it is possible to embed double quotes in single quotes, \n",
    "# e.g. 'my nickname is \"mike\"'. You can't put single quotes inside single quotes because it is confusing to Python."
   ]
  },
  {
   "cell_type": "code",
   "execution_count": 7,
   "metadata": {},
   "outputs": [
    {
     "name": "stdout",
     "output_type": "stream",
     "text": [
      "z = Hello\n",
      "z.startswith(\"Goo\") = False\n",
      "z.startswith(\"He\") = True\n"
     ]
    }
   ],
   "source": [
    "# You can use \"tab-completion\" on your object to find out what it can do.\n",
    "# Try typing z.s and then hitting the \"tab\" key. You will find a \"startswith\" method.\n",
    "print('z =', z)\n",
    "print('z.startswith(\"Goo\") =', z.startswith(\"Goo\"))\n",
    "print('z.startswith(\"He\") =', z.startswith(\"He\"))"
   ]
  },
  {
   "cell_type": "code",
   "execution_count": 8,
   "metadata": {},
   "outputs": [
    {
     "name": "stdout",
     "output_type": "stream",
     "text": [
      "names.split(', ') = ['alejandro', 'avi', 'ada', 'adrian']\n",
      "splitted + l = ['alejandro', 'avi', 'ada', 'adrian', 3, 4.3, 'Hello']\n"
     ]
    }
   ],
   "source": [
    "# If you want to know more about what a particular function does, you can use the \n",
    "# question mark to ask for documentation. \n",
    "names = \"alejandro, avi, ada, adrian\"\n",
    "\n",
    "# This line will bring up the documentation for the \"split\" method of a string.\n",
    "# It will show up in a little window in the bottom and show you how to call the function\n",
    "names.split?\n",
    "\n",
    "# Turns out split() splits up a string by breaking it at \"sep\". This gives us a list\n",
    "splitted = names.split(', ')\n",
    "print(\"names.split(', ') =\", splitted)\n",
    "\n",
    "# Now we have a list and we add to it like we saw earlier. \n",
    "print(\"splitted + l =\", splitted + l)"
   ]
  },
  {
   "cell_type": "markdown",
   "metadata": {},
   "source": [
    "## Logic and control-flow\n",
    "The real value of variables is that they can take different values each time you run your program. For example, you might read a variable value from an excel file. It might even be a random number that we generate. We often want to do different things depending on the value of a variable. "
   ]
  },
  {
   "cell_type": "code",
   "execution_count": 11,
   "metadata": {},
   "outputs": [
    {
     "name": "stdout",
     "output_type": "stream",
     "text": [
      "Who cares?\n"
     ]
    }
   ],
   "source": [
    "# Python has a \"module\" called random that generates random numbers for us. \n",
    "import random \n",
    "\n",
    "# x is a random integer between 0 and 99, inclusive.\n",
    "# Notice that there are 100 such numbers since we are including 0.\n",
    "x = random.randint(0, 99)\n",
    "\n",
    "# One in 10 times, x should be greater than or equal to 90 \n",
    "if x >= 90: \n",
    "    print('x > 90, you win!')\n",
    "# Simimarly, x should be less than 20 one in 5 times. \n",
    "elif x < 20: \n",
    "    print('x <= 20, you lose!')\n",
    "else: \n",
    "    print('Who cares?')"
   ]
  },
  {
   "cell_type": "code",
   "execution_count": 10,
   "metadata": {},
   "outputs": [
    {
     "name": "stdout",
     "output_type": "stream",
     "text": [
      "Give me a positive integer.-10\n",
      "-10 is not a positive integer\n"
     ]
    }
   ],
   "source": [
    "# We can do a similar logical computation, but take input from the user.\n",
    "x = input(\"Give me a positive integer.\")\n",
    "\n",
    "# The input() function always returns a string, so we must convert to an integer.\n",
    "x = int(x)\n",
    "\n",
    "if x > 0:\n",
    "    print(\"Great! A positive integer.\")\n",
    "else:\n",
    "    print(x, \"is not a positive integer\")"
   ]
  },
  {
   "cell_type": "code",
   "execution_count": null,
   "metadata": {},
   "outputs": [],
   "source": [
    "# Here's a simple example with control flow AND looping.\n",
    "# We have a string that is a list of names of people in our group separated by commas.\n",
    "# We want to print them all on separate lines after capitalizing them.\n",
    "\n",
    "group_names_string = \"alejandro, avi, ada, adrian\"\n",
    "\n",
    "# Won't work if we forget commas!\n",
    "# group_names_string = \"alejandro avi ada adrian\"\n",
    "\n",
    "# Same problem if there is only one name\n",
    "# group_names_string = \"alejandro\"\n",
    "\n",
    "# Use \"split()\" to convert the names to a list.\n",
    "group_names_list = group_names_string.split(', ')\n",
    "if len(group_names_list) <= 1:\n",
    "    # One person is not a group  \n",
    "    print('We need 2 or more names to make a group!')\n",
    "else: \n",
    "    # We have enough names, so let's proceed. \n",
    "    print('Our group members are:')\n",
    "    # This is a simple loop. \n",
    "    # In each round, the variable name will be set to the next name in group_names_list\n",
    "    for name in group_names_list:\n",
    "        capitalized_name = name.title()\n",
    "        print(capitalized_name)"
   ]
  },
  {
   "cell_type": "code",
   "execution_count": 20,
   "metadata": {},
   "outputs": [
    {
     "data": {
      "image/png": "[encoded data removed]",
      "text/plain": [
       "<Figure size 432x288 with 1 Axes>"
      ]
     },
     "metadata": {},
     "output_type": "display_data"
    }
   ],
   "source": [
    "# Exercise: let's try to verify that the random number generator is really working. \n",
    "# We want to count how many times we see each value. \n",
    "\n",
    "# To keep track of how many times we see each value, we will introduce the idea of a numpy array\n",
    "# we import numpy as \"np\" since it is shorter, which is nice\n",
    "import numpy as np\n",
    "\n",
    "# To see how good the random number generator is, we will make a very simple plot called a \"histogram\"\n",
    "from matplotlib import pyplot as plt\n",
    "\n",
    "# Each position in the array contains the count for that number.\n",
    "# We want to keep of 100 positions. When we are done with this computation, the value at position 10 \n",
    "# will be the number of times the random number generator chose the number 10. etc. \n",
    "counts = np.zeros(100)  # All the values start as 0.\n",
    "\n",
    "# We will pick a random number 10000 times!\n",
    "total_random_numbers = 10000\n",
    "\n",
    "# This is a simple way of looping in python: the range() command will go through all the numbers \n",
    "# from 0 up to total_random_numbers - 1. This is 10000 total numbers!\n",
    "# In each run of the loop, the variable i will be set to the next number until we get to the last one.\n",
    "for i in range(total_random_numbers):\n",
    "    # Get the random number for this round. \n",
    "    x = random.randint(0, 99)\n",
    "    \n",
    "    # Add one to the count for that number.\n",
    "    counts[x] = counts[x] + 1\n",
    "    \n",
    "# Now we are done with the loop!\n",
    "\n",
    "# Let's look at how many times we saw each value. \n",
    "# The easiest way to do this it to make a plot. We want to plot the number\n",
    "# against the number of times it was chosen. Remember that there are 100 total\n",
    "# numbers and we ran the loop 10000 times, so we should see each number 100 times.\n",
    "plt.scatter(np.arange(100), counts)\n",
    "\n",
    "# We can make a horizontal line at y=100 to show where we expect the average to be.\n",
    "plt.axhline(100)\n",
    "\n",
    "# We can change the Y axis to show a wider range\n",
    "plt.ylim(0, 200)\n",
    "\n",
    "# We can label our axes for clarity and even set the fontsize\n",
    "plt.ylabel('Number of Times Chosen', fontsize=16)\n",
    "plt.xlabel('Numeric Value', fontsize=16)\n",
    "\n",
    "# Show the pretty picture! Notice that the random number generator seems to be working!\n",
    "plt.show()"
   ]
  },
  {
   "cell_type": "code",
   "execution_count": null,
   "metadata": {},
   "outputs": [],
   "source": [
    "### Practice Exercise solutions\n",
    "x=input(\"Write a word!\")\n",
    "if len(x) >= 10:\n",
    "    print(\"{} is a long word!\".format(x))\n",
    "else:\n",
    "    print(\"{} is a regular word.\".format(x))\n",
    "x1=input(\"Write the first integer.\")\n",
    "x2=input(\"Write the second integer.\")\n",
    "x3=input(\"Write the third integer.\")\n",
    "if (x1 > x2):\n",
    "    print(\"{} is greater than {}\".format(x1, x2))\n",
    "elif (x1 < x2):\n",
    "    print(\"{} is greater than {}\".format(x2, x1))\n",
    "else:\n",
    "    print(\"{} and {} are equal\".format(x2, x1))\n",
    "### Continue the solution once Avi checks this."
   ]
  },
  {
   "cell_type": "markdown",
   "metadata": {},
   "source": [
    "## Loops\n",
    "Another important part of the python syntax involves looping; which by itself is an essential tool in any programming language. Programming in general is done in order to relegate complex tasks to machines; however, it's also there to relegate simple yet repetitive tasks. Loops help us repeat a process over and over; thus, saving us a large amount of time we would use to write the code over and over again. Just like in the conditional statements there are reserved keywords that are used to initiate the loop environment (for and while); these work in a similar manner but they do have their differences.\n",
    "\n",
    "While: The while statement works very similar to an if (it takes as an input a boolean expression). The indented code will then be run until the boolean expression keeps being true; though it is very useful it's also dangerous since we're at a huge risk of running the code forever if we aren't careful.\n",
    "\n",
    "#### Pseudocode\n",
    "\n",
    "while (this is true):\n",
    "\n",
    "    do stuff\n",
    "    modify variable in conditional\n",
    "\\\\\\\\\\\\\\\\\\\\\\\\\\\\\\\\\\\\    \n",
    "x=5\n",
    "\n",
    "while x <10:\n",
    "\n",
    "    print(x)\n",
    "    x=x+1\n",
    "\n",
    "### Lists and For loops.\n",
    "One of the most useful data types in basic Python are list. Lists are a data structure which can contain many elements of different data types which can range from integers, floats, strings to even other lists. This allows us an easy and reliable way to store and access multiple values while having them solely in a \n"
   ]
  }
 ],
 "metadata": {
  "kernelspec": {
   "display_name": "Python 3",
   "language": "python",
   "name": "python3"
  },
  "language_info": {
   "codemirror_mode": {
    "name": "ipython",
    "version": 3
   },
   "file_extension": ".py",
   "mimetype": "text/x-python",
   "name": "python",
   "nbconvert_exporter": "python",
   "pygments_lexer": "ipython3",
   "version": "3.6.5"
  }
 },
 "nbformat": 4,
 "nbformat_minor": 2
}

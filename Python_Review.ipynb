{
 "cells": [
  {
   "cell_type": "markdown",
   "metadata": {},
   "source": [
    "# Python Review\n",
    "Welcome! First of all; this document is meant to serve as a complement to your previous knowledge obtained from the khan academy videos not a supplement. Though the notebook will be written to be as clear as possible; some previous programming experience is recommended in order to understand this notebook with greater ease. Before starting with the introduction to Python; we'll go over some of the basic functionalities of Jupyter which will help us during our programming journey this week.\n",
    "\n",
    "## What is Python?\n",
    "Python is an interpreted, high-level general-purpose programming language.\n",
    "\n",
    "Interpreted: This means the code done on Python can be run by the interpreter directly rather than being compiled into machine language code and then executed.\n",
    "\n",
    "High-level: Usually represents how abstracted the syntax is from computer language or how similar it is to natural language (our language). High level means its syntax is very user-friendly (even among high level languages Python is known to have a very friendly syntax).\n",
    "\n",
    "General-purpose: It can be used on many applications; from website development to mobile applications (Just because something is general purpose doesn't mean it SHOULD be used on everything).\n",
    "\n",
    "In short; Python is a programming language that is very easy to learn (due to friendly syntax), simple to run (we have an interpreter) that can allows us to work in various fields and applications due to its versatility (general purpose). Currently; this language is among the top 3 most popular in the world and it owes this position to its high-level syntax and its open source status; this meaning that everyone can contribute to Python by making new packages to tackle different applications. These may range from solving differential equations and plotting; all the way to a package designed specifically for stock analysis or simulation of chaotic systems.\n",
    "\n",
    "## What is Jupyter?\n",
    "\n",
    "So; usually when writing code we use an IDE (Interactive Development Environment). It can range from dedicated Python IDE's like Spyder and Pycharm; to generalist software like Visual Studio Code, Atom and Notepad. These are generally good options to create projects and to code in general; however, this doesn't allow for visualization and long explanations of the code which is where Jupyter comes in.\n",
    "\n",
    "Jupyter Notebook is an open-source project (the plan is for it to remain free) that is based on visualization, interaction and distribution of code in a simple manner. The name Jupyter notebook comes from both the first 3 kernels to be supported (JUlia, PYThon, R) and the notebooks written by Galileo on Jupiter and it gives programmers a way to run code sequentially in cells and add text in between to explain said code. In short; it's an environment that runs Python (or any Kernel of our choosing) continuously.\n",
    "\n",
    "The way Jupyter works is via the creation and modification of cells; the cells' functionalities depend on the type of cell we create which can be either Markdown, Raw Text, Code and Heading (Headings have since been discontinued and are now included in Markdown). If a cell is in the Code format; then any content inside that cell will be treated just like code in an IDE (the language is determined by the Kernel that's currently running). Cells can be inserted or removed by using the buttons in the upper part of the notebook and to run the selected cell we just need to press Ctrl+Enter. \n",
    "\n",
    "If we run a cell in Markdown then we're free to write text as we please; however, the Markdown format allows for basic text formatting along with an assortment of other neat and useful features (headings, bullet lists, number lists, hyperlink inclusion, LaTeX support and image embedding). This allows the user to not only write explanations to certain code snippets; but also to give it nice formatting and making it even more interactive for the user.\n",
    "\n",
    "To save files we first select a name in the upper left corner of the notebook and just press Ctrl+S.\n",
    "\n",
    "## Now we start the review. Variables and basic arithmetic.\n",
    "A variable is a way that data can be stored and referenced in a program; this data can vary greately from variable to variable and it's usually essential for the functioning of the program. For the user of the program that's pretty much it but for the programmer it also provides labels to the data in order to make the code more readable (this is something crucial not just in Python but in any language). "
   ]
  },
  {
   "cell_type": "code",
   "execution_count": 1,
   "metadata": {},
   "outputs": [
    {
     "name": "stdout",
     "output_type": "stream",
     "text": [
      "5\n",
      "4\n",
      "not a number!\n",
      "Hello!\n"
     ]
    }
   ],
   "source": [
    "# Anything written beside the numeral sign is a comment.\n",
    "'''\n",
    "This is a multi-line\n",
    "comment\n",
    "'''\n",
    "\n",
    "# Define and set a variable in one line: name, equals sign, then value.\n",
    "number = 5\n",
    "\n",
    "# The print command displays the value of its argument after the cell runs.\n",
    "print(number)\n",
    "\n",
    "# If we reassign the value of the variable, it \"forgets\" it's previous value\n",
    "number = 4\n",
    "print(number)\n",
    "\n",
    "# Python variables can have multiple types. Confusingly we can set number to a value that is not a number.\n",
    "number = 'not a number!'\n",
    "print(number)\n",
    "\n",
    "# Generally it's good to give variables clearer names.\n",
    "# Strings can be defined with single quotes (as above) or double quotes (like below).\n",
    "text = \"Hello!\"\n",
    "print(text)"
   ]
  },
  {
   "cell_type": "markdown",
   "metadata": {},
   "source": [
    "### Whitespacing\n",
    "Python along with most programming languages has an official [style  guide](https://www.python.org/dev/peps/pep-0008/) on how code should be structured, variables named and whitespace written. This style guide sets the standard on how code should be written and allows for consistency within the Python community; whitespace is defined as the space left after pressing the space button. There are some cases in which the use of whitespace is very helpful in matters regarding the readibility of your code; however, sometimes it can work against us since too much whitespace can often lead to confusion whilst reading the code. Therefore; we should focus on being consistent and following the style guide."
   ]
  },
  {
   "cell_type": "code",
   "execution_count": 2,
   "metadata": {},
   "outputs": [
    {
     "name": "stdout",
     "output_type": "stream",
     "text": [
      "a = 21.4\n",
      "b = 10.1\n",
      "\n",
      "a + b = 31.5\n",
      "a - b = 11.299999999999999\n",
      "a - b = 11.3\n",
      "a * b = 216.14\n",
      "a / b = 2.118811881188119\n",
      "a^2 = 457.9599999999999\n",
      "a % 6 = 3.3999999999999986\n"
     ]
    }
   ],
   "source": [
    "### Basic Arithmetic operations and printing along the way. \n",
    "\n",
    "# Save some variables to do basic math with. \n",
    "a = 21.4\n",
    "b = 10.1\n",
    "print('a =', a)\n",
    "print('b =', b)\n",
    "\n",
    "# Empty print command prints a new line\n",
    "print() \n",
    "\n",
    "# Addition\n",
    "c = a + b\n",
    "print('a + b =', c)\n",
    "\n",
    "# Subtraction\n",
    "c = a - b\n",
    "print('a - b =', c)\n",
    "\n",
    "# Subtraction + rounding to 3 decimal places\n",
    "# Notice that you can combine an arithmetic operation (subtraction) with a function call (rounding)\n",
    "# in one line of code. \n",
    "c = round(a - b, 3)\n",
    "print('a - b =', c)\n",
    "\n",
    "# Multiplication\n",
    "c = a*b\n",
    "print('a * b =', c)\n",
    "\n",
    "# Division\n",
    "c = a/b\n",
    "print('a / b =', c)\n",
    "\n",
    "# Exponents\n",
    "print('a^2 =', a**2)\n",
    "\n",
    "# Modulus\n",
    "print('a % 6 =', a % 6)"
   ]
  },
  {
   "cell_type": "markdown",
   "metadata": {},
   "source": [
    "### Exercises\n",
    "\n",
    "Calculate the solution to these problems using Python and verify the answers (round the answers to the most significant digit).\n",
    "\\begin{align}\n",
    "(5*(10+2)\\div 30)^2=4 \\\\ (5-25)^2+3-2*9=385 \\\\ (42.3*17.2)^{1.5}-66.5 \\approx 19558.2 \n",
    "\\end{align}"
   ]
  },
  {
   "cell_type": "code",
   "execution_count": 45,
   "metadata": {},
   "outputs": [
    {
     "name": "stdout",
     "output_type": "stream",
     "text": [
      "4.0\n",
      "385\n",
      "19558.20880948851\n"
     ]
    }
   ],
   "source": [
    "print((5 * (10 + 2) / 30)**2)\n",
    "print((5 - 25)**2 + 3 - 2*9)\n",
    "print((42.3 * 17.2)**1.5 - 66.5)"
   ]
  },
  {
   "cell_type": "markdown",
   "metadata": {},
   "source": [
    "## A more complete perspective on variables.\n",
    "\n",
    "We have defined previously that a variable is something used to store and reference information and while that is true; it's often useful to abstract the concept of a variable into something more familiar like an object (If anyone here has seen object oriented programming, this is equivalent to the pre-pre-introduction and you can skip this section). \n",
    "\n",
    "An object in the simplest sense is something that is labeled, has certain properties and can be manipulated in certain ways. Of course this definition is lacking for many objects but for the \"objects\" we see in programming this suffices; the variable has a lable that depends on the data type it contains within, in order to see this label we use the type function in Python with 3 different variable types to see what it is."
   ]
  },
  {
   "cell_type": "code",
   "execution_count": 38,
   "metadata": {},
   "outputs": [
    {
     "name": "stdout",
     "output_type": "stream",
     "text": [
      "type(x) = <class 'int'>\n",
      "type(y) = <class 'float'>\n",
      "type(z) = <class 'str'>\n"
     ]
    }
   ],
   "source": [
    "# Let's start by defining 3 different variables, a value is assigned to a variable using the equal sign.\n",
    "x = 3\n",
    "y = 4.3\n",
    "z = \"Hello\"\n",
    "\n",
    "# The \"type\" command will tell you what the type of a variable is. Usually you will know already because we set it. \n",
    "print('type(x) =', type(x))\n",
    "print('type(y) =', type(y))\n",
    "print('type(z) =', type(z))"
   ]
  },
  {
   "cell_type": "code",
   "execution_count": 66,
   "metadata": {},
   "outputs": [
    {
     "name": "stdout",
     "output_type": "stream",
     "text": [
      "x + y = 7.3\n",
      "Addme\n",
      "AddAdd\n"
     ]
    },
    {
     "ename": "TypeError",
     "evalue": "unsupported operand type(s) for +: 'int' and 'str'",
     "output_type": "error",
     "traceback": [
      "\u001b[1;31m---------------------------------------------------------------------------\u001b[0m",
      "\u001b[1;31mTypeError\u001b[0m                                 Traceback (most recent call last)",
      "\u001b[1;32m<ipython-input-66-5ef95f7776a0>\u001b[0m in \u001b[0;36m<module>\u001b[1;34m\u001b[0m\n\u001b[0;32m      9\u001b[0m \u001b[0mprint\u001b[0m\u001b[1;33m(\u001b[0m\u001b[1;34m\"Add\"\u001b[0m\u001b[1;33m*\u001b[0m\u001b[1;36m2\u001b[0m\u001b[1;33m)\u001b[0m\u001b[1;33m\u001b[0m\u001b[1;33m\u001b[0m\u001b[0m\n\u001b[0;32m     10\u001b[0m \u001b[1;31m# Can't add x + z because it is not clear what it means to add a string to an integer.\u001b[0m\u001b[1;33m\u001b[0m\u001b[1;33m\u001b[0m\u001b[1;33m\u001b[0m\u001b[0m\n\u001b[1;32m---> 11\u001b[1;33m \u001b[0mmy_val\u001b[0m \u001b[1;33m=\u001b[0m \u001b[0mx\u001b[0m \u001b[1;33m+\u001b[0m \u001b[0mz\u001b[0m\u001b[1;33m\u001b[0m\u001b[1;33m\u001b[0m\u001b[0m\n\u001b[0m\u001b[0;32m     12\u001b[0m \u001b[1;33m\u001b[0m\u001b[0m\n\u001b[0;32m     13\u001b[0m \u001b[1;31m# You will often find that operations only work for certain types. This is something you will learn as you go.\u001b[0m\u001b[1;33m\u001b[0m\u001b[1;33m\u001b[0m\u001b[1;33m\u001b[0m\u001b[0m\n",
      "\u001b[1;31mTypeError\u001b[0m: unsupported operand type(s) for +: 'int' and 'str'"
     ]
    }
   ],
   "source": [
    "# Notice that the types of objects affect what we can do with them\n",
    "# Can add x + y even though they have different types - both are numbers. That makes sense.\n",
    "my_val = x + y\n",
    "print('x + y =', my_val)\n",
    "\n",
    "#What happens if we add two strings together?\n",
    "print(\"Add\" + \"me\")\n",
    "\n",
    "#What if we multiply a string and an integer?\n",
    "print(\"Add\"*2)\n",
    "\n",
    "# Can't add x + z because it is not clear what it means to add a string to an integer. \n",
    "my_val = x + z\n",
    "\n",
    "# You will often find that operations have different effects on different data types! "
   ]
  },
  {
   "cell_type": "code",
   "execution_count": 71,
   "metadata": {},
   "outputs": [
    {
     "name": "stdout",
     "output_type": "stream",
     "text": [
      "M\n",
      "My stri\n",
      "M ti\n",
      "ng.\n"
     ]
    }
   ],
   "source": [
    "#Strings have another interesting property which allows us to access certain sections of the string via indexing.\n",
    "S = \"My string.\"\n",
    "\n",
    "#Indexing is done using square brackets beside the string of interest.\n",
    "print(S[0])\n",
    "\n",
    "#We can also choose a range of indexes \n",
    "print(S[0:7])\n",
    "\n",
    "#Choose a range with a steps of certain size\n",
    "print(S[0:7:2])\n",
    "\n",
    "#And even use negative indexes\n",
    "print(S[-3:])"
   ]
  },
  {
   "cell_type": "markdown",
   "metadata": {},
   "source": [
    "Variables often have commands (\"functions\" or \"methods\") associated with them; these functions or methods change depending on the class a variable belongs to and a clear example of this can be seen in the list and string classes. A list of their methods can be found via the following function."
   ]
  },
  {
   "cell_type": "code",
   "execution_count": 40,
   "metadata": {},
   "outputs": [
    {
     "name": "stdout",
     "output_type": "stream",
     "text": [
      "['__add__', '__class__', '__contains__', '__delattr__', '__dir__', '__doc__', '__eq__', '__format__', '__ge__', '__getattribute__', '__getitem__', '__getnewargs__', '__gt__', '__hash__', '__init__', '__init_subclass__', '__iter__', '__le__', '__len__', '__lt__', '__mod__', '__mul__', '__ne__', '__new__', '__reduce__', '__reduce_ex__', '__repr__', '__rmod__', '__rmul__', '__setattr__', '__sizeof__', '__str__', '__subclasshook__', 'capitalize', 'casefold', 'center', 'count', 'encode', 'endswith', 'expandtabs', 'find', 'format', 'format_map', 'index', 'isalnum', 'isalpha', 'isascii', 'isdecimal', 'isdigit', 'isidentifier', 'islower', 'isnumeric', 'isprintable', 'isspace', 'istitle', 'isupper', 'join', 'ljust', 'lower', 'lstrip', 'maketrans', 'partition', 'replace', 'rfind', 'rindex', 'rjust', 'rpartition', 'rsplit', 'rstrip', 'split', 'splitlines', 'startswith', 'strip', 'swapcase', 'title', 'translate', 'upper', 'zfill']\n",
      "\n",
      "z = Hello\n",
      "z.endswith(\"bye\") = False\n",
      "z.endswith(\"llo\") = True\n"
     ]
    }
   ],
   "source": [
    "# You can call dir() on your object to list all the available methods\n",
    "print(dir(z))\n",
    "print()\n",
    "\n",
    "# z is a string and has a function \"endswith\" - lets try it.\n",
    "print('z =', z)\n",
    "print('z.endswith(\"bye\") =', z.endswith(\"bye\"))\n",
    "print('z.endswith(\"llo\") =', z.endswith(\"llo\"))\n",
    "\n",
    "# Side note: you can see above that it is possible to embed double quotes in single quotes, \n",
    "# e.g. 'my nickname is \"mike\"'. You can't put single quotes inside single quotes because it is confusing to Python."
   ]
  },
  {
   "cell_type": "code",
   "execution_count": 41,
   "metadata": {},
   "outputs": [
    {
     "name": "stdout",
     "output_type": "stream",
     "text": [
      "z = Hello\n",
      "z.startswith(\"Goo\") = False\n",
      "z.startswith(\"He\") = True\n"
     ]
    }
   ],
   "source": [
    "# You can use \"tab-completion\" on your object to find out what it can do.\n",
    "# Try typing z.s and then hitting the \"tab\" key. You will find a \"startswith\" method.\n",
    "print('z =', z)\n",
    "print('z.startswith(\"Goo\") =', z.startswith(\"Goo\"))\n",
    "print('z.startswith(\"He\") =', z.startswith(\"He\"))"
   ]
  },
  {
   "cell_type": "code",
   "execution_count": 67,
   "metadata": {},
   "outputs": [
    {
     "name": "stdout",
     "output_type": "stream",
     "text": [
      "names.split(', ') = ['alejandro', 'avi', 'ada', 'adrian']\n"
     ]
    }
   ],
   "source": [
    "# If you want to know more about what a particular function does, you can use the \n",
    "# question mark to ask for documentation. \n",
    "names = \"alejandro, avi, ada, adrian\"\n",
    "\n",
    "# This line will bring up the documentation for the \"split\" method of a string.\n",
    "# It will show up in a little window in the bottom and show you how to call the function\n",
    "names.split?\n",
    "\n",
    "# Turns out split() splits up a string by breaking it at \"sep\". This gives us a list\n",
    "splitted = names.split(', ')\n",
    "print(\"names.split(', ') =\", splitted)\n",
    "\n",
    "#However; the result is a new data structure that seems to containe the resulting strings separatedly."
   ]
  },
  {
   "cell_type": "markdown",
   "metadata": {},
   "source": [
    "### Lists and For loops.\n",
    "One of the most useful data types in basic Python are lists. Lists are a data structure which can contain many elements of different data types which can range from integers, floats, strings and even other lists. This allows us an easy and reliable way to store and access multiple data types using only one variable (thus; avoiding getting lost among many variable instances)."
   ]
  },
  {
   "cell_type": "code",
   "execution_count": 36,
   "metadata": {},
   "outputs": [
    {
     "name": "stdout",
     "output_type": "stream",
     "text": [
      "l = [3, 4.0, 'Marco']\n",
      "type(l) = <class 'list'>\n",
      "The first element of this list is 3\n",
      "This elemet is <class 'int'>\n",
      "[1, 2, 3, 4, 5, 6]\n"
     ]
    }
   ],
   "source": [
    "# l is a list\n",
    "l = [3, 4.0, \"Marco\"]\n",
    "print(\"l =\", l)\n",
    "\n",
    "print('type(l) =', type(l))\n",
    "\n",
    "#We can access the elements of a list using square brackets.\n",
    "print(\"The first element of this list is {}\".format(l[0]))\n",
    "print(\"This elemet is {}\".format(type(l[0])))\n",
    "\n",
    "#Although the list is globally a list; the elements still preserve their type.\n",
    "#What if we try to add two lists of numbers though?\n",
    "n_list1=[1,2,3]\n",
    "n_list2=[4,5,6]\n",
    "l2 = n_list1 + n_list2\n",
    "print(l2)"
   ]
  },
  {
   "cell_type": "markdown",
   "metadata": {},
   "source": [
    "## Logic and control-flow\n",
    "The real value of variables is that they can take different values each time you run your program. For example, you might read a variable value from an excel file. It might even be a random number that we generate. We often want to do different things depending on the value of a variable. "
   ]
  },
  {
   "cell_type": "code",
   "execution_count": null,
   "metadata": {},
   "outputs": [],
   "source": [
    "# Python has a \"module\" called random that generates random numbers for us. \n",
    "import random \n",
    "\n",
    "# x is a random integer between 0 and 99, inclusive.\n",
    "# Notice that there are 100 such numbers since we are including 0.\n",
    "x = random.randint(0, 99)\n",
    "\n",
    "# One in 10 times, x should be greater than or equal to 90 \n",
    "if x >= 90: \n",
    "    print('x > 90, you win!')\n",
    "# Simimarly, x should be less than 20 one in 5 times. \n",
    "elif x < 20: \n",
    "    print('x <= 20, you lose!')\n",
    "else: \n",
    "    print('Who cares?')"
   ]
  },
  {
   "cell_type": "code",
   "execution_count": null,
   "metadata": {},
   "outputs": [],
   "source": [
    "# We can do a similar logical computation, but take input from the user.\n",
    "x = input(\"Give me a positive integer.\")\n",
    "\n",
    "# The input() function always returns a string, so we must convert to an integer.\n",
    "x = int(x)\n",
    "\n",
    "if x > 0:\n",
    "    print(\"Great! A positive integer.\")\n",
    "else:\n",
    "    print(x, \"is not a positive integer\")"
   ]
  },
  {
   "cell_type": "code",
   "execution_count": null,
   "metadata": {},
   "outputs": [],
   "source": [
    "# Here's a simple example with control flow AND looping.\n",
    "# We have a string that is a list of names of people in our group separated by commas.\n",
    "# We want to print them all on separate lines after capitalizing them.\n",
    "\n",
    "group_names_string = \"alejandro, avi, ada, adrian\"\n",
    "\n",
    "# Won't work if we forget commas!\n",
    "# group_names_string = \"alejandro avi ada adrian\"\n",
    "\n",
    "# Same problem if there is only one name\n",
    "# group_names_string = \"alejandro\"\n",
    "\n",
    "# Use \"split()\" to convert the names to a list.\n",
    "group_names_list = group_names_string.split(', ')\n",
    "if len(group_names_list) <= 1:\n",
    "    # One person is not a group  \n",
    "    print('We need 2 or more names to make a group!')\n",
    "else: \n",
    "    # We have enough names, so let's proceed. \n",
    "    print('Our group members are:')\n",
    "    # This is a simple loop. \n",
    "    # In each round, the variable name will be set to the next name in group_names_list\n",
    "    for name in group_names_list:\n",
    "        capitalized_name = name.title()\n",
    "        print(capitalized_name)"
   ]
  },
  {
   "cell_type": "code",
   "execution_count": null,
   "metadata": {},
   "outputs": [],
   "source": []
  },
  {
   "cell_type": "code",
   "execution_count": null,
   "metadata": {},
   "outputs": [],
   "source": [
    "### Practice Exercise solutions\n",
    "x=input(\"Write a word!\")\n",
    "if len(x) >= 10:\n",
    "    print(\"{} is a long word!\".format(x))\n",
    "else:\n",
    "    print(\"{} is a regular word.\".format(x))\n",
    "x1=input(\"Write the first integer.\")\n",
    "x2=input(\"Write the second integer.\")\n",
    "x3=input(\"Write the third integer.\")\n",
    "if (x1 > x2):\n",
    "    print(\"{} is greater than {}\".format(x1, x2))\n",
    "elif (x1 < x2):\n",
    "    print(\"{} is greater than {}\".format(x2, x1))\n",
    "else:\n",
    "    print(\"{} and {} are equal\".format(x2, x1))\n",
    "### Continue the solution once Avi checks this."
   ]
  },
  {
   "cell_type": "markdown",
   "metadata": {},
   "source": [
    "## Functions\n",
    "\n",
    "Although for many cases we can write code as a script and decide beforehand the input parameters; this usually ends up working against us when we want to share the code with other people and using said code in other projects. In that case it's very useful to define a function that can be used at any point of the document. By definition: A function is an object made of several operations that take inputs and return an output whose number doesn't necessarily correspond with the number of inputs. In Python; this corresponds to a reusable piece of code that has to perform one specific action. \n",
    "\n",
    "Why do functions matter? They matter because they help make the easier to read and to share."
   ]
  },
  {
   "cell_type": "code",
   "execution_count": 7,
   "metadata": {},
   "outputs": [],
   "source": [
    "### Let's start off by making a very simple function.\n",
    "def printnum(num1):\n",
    "    \"\"\"\n",
    "    This function prints an number\n",
    "    \"\"\"\n",
    "    print(num1)"
   ]
  },
  {
   "cell_type": "code",
   "execution_count": 8,
   "metadata": {},
   "outputs": [
    {
     "name": "stdout",
     "output_type": "stream",
     "text": [
      "3\n"
     ]
    }
   ],
   "source": [
    "printnum(3)"
   ]
  },
  {
   "cell_type": "markdown",
   "metadata": {},
   "source": [
    "So what can we say about this function? First of all; we notice that def is a keyword used to define functions, the name of the function is in blue and the arguments are inside a parenthesis. Similar to how we use : in for loops and conditional statements; we also use it at the end of the line we declare the function to start the body of the function. The multi-line comment does serve a purpose in this case since now we can call the ? command to see that comment and obtain a detailed explanation of the function."
   ]
  },
  {
   "cell_type": "code",
   "execution_count": 11,
   "metadata": {},
   "outputs": [],
   "source": [
    "import math\n",
    "printnum?"
   ]
  },
  {
   "cell_type": "code",
   "execution_count": 17,
   "metadata": {},
   "outputs": [
    {
     "name": "stdout",
     "output_type": "stream",
     "text": [
      "4\n"
     ]
    },
    {
     "data": {
      "text/plain": [
       "3.0"
      ]
     },
     "execution_count": 17,
     "metadata": {},
     "output_type": "execute_result"
    }
   ],
   "source": [
    "'''\n",
    "The next step in making functions is using the return statement; \n",
    "this allows the function to yield or return a value that can be assigned to a variable and thus; stored locally. \n",
    "'''\n",
    "\n",
    "def squaring(num):\n",
    "    square = num**2\n",
    "    return square\n",
    "\n",
    "x = squaring(2)\n",
    "\n",
    "print(x)\n",
    "\n",
    "# We can also take multiple parameters as inputs and return multiple values.\n",
    "\n",
    "def right_triangle(a,o):\n",
    "    '''\n",
    "    The function is given the lengths of the adjacent and opposite sides; returning the hypothenouse and the\n",
    "    angles of the triangle.\n",
    "    '''\n",
    "    hypothenouse=(a**2+o**2)**(0.5)\n",
    "    angles=[math.atan(o/a)*180/3.14,90-math.atan(o/a)*180/3.14,90]\n",
    "    return hypothenouse, angles\n",
    "right_triangle(3,4)\n",
    "\n",
    "# And we can even have preset values and optional parameters!\n",
    "def velocity(dist,time=1):\n",
    "    v=dist/time\n",
    "    return v\n",
    "velocity(dist=3)"
   ]
  },
  {
   "cell_type": "markdown",
   "metadata": {},
   "source": [
    "## Exercises!\n",
    "1. Define a function that takes a list of integers and a number as inputs and returns every element of the list multiplied by that number.\n",
    "2. Define a function that takes a list of strings as an input and returns a list with all of the words in lowercase.\n",
    "6. Define a function that can calculate the standard deviation of a list of numbers.\n",
    "3. Define a function that takes as an input a list of numbers and returns a list stating whether they are odd or even (a list of strings).\n",
    "4. Define a function that can calculate both the arithmetic average and weighted average for a given set of numbers or a given set of numbers and weights.\n",
    "5. Define a function that takes as an input a list of strings and a number; then have it return whether the lenght of the string is longer, shorter or equal to that number.\n",
    "\n",
    "\n",
    "## Extra topic: Lambda functions"
   ]
  },
  {
   "cell_type": "markdown",
   "metadata": {},
   "source": [
    "### Packages and Modules\n",
    "The basic implementation of Python is very powerful by itself and allows us to tackle many types of applications; however; if the task is too complex then solving it might involve the creation of new modules and objects that would take quite the amount of time. Fortunately; given that Python isn't a brand new language; people have tackled said issues before and they've made their solutions available to the public via packages. A package is a collection of modules (they can be built into vanilla Python or developed by others) which together aim to solve a problem or series of problems in a given field. In this club we'll actually be using many packages which will help us analyze images; however, not all of them are dedicated purely for imaging, some have a scope outside of images and can be used in a wide array of applications.\n",
    "\n",
    "Sci-Py Ecosystem: An ecosystem of open-source Python packages to be used in mathematics, engineering and sciences; in short, if you want to work with Python in a scientific or engineering field you'll most likely use these packages. We're going to be using 4 of them (although we only need to import 3 of them).\n",
    "1. Numpy: Numerical Python; allows for the manipulation of arrays and n-dimensional objects.\n",
    "2. Pandas: Allows for the creation of structures for data analysis.\n",
    "3. Matplotlib: Plotting library based on Matlab's plotting capabilities.\n",
    "4. IPython: Interactive Python; if you're using a Jupyter Notebook, you're using IPython.\n",
    "\n",
    "Besides these packages; we'll be using two others that are very important \n",
    "Sklearn: Sci-kit Learn is the most commonly used package in machine learning applications. Data spliting, model creation, model evaluation, etc; it's all here.\n",
    "5. Seaborn"
   ]
  },
  {
   "cell_type": "markdown",
   "metadata": {},
   "source": [
    "### Numpy\n",
    "Numpy (Numerical Python) is a package that makes numerical manipulation in Python way easier; in pure Python we would have to loop over a list and multiply the elements one by one. By defining new objects called arrays (which work similar to lists) we can do the addition and multiplication of those objects using the operators we use to do normal arithmetic expressions; not only that, but numpy functions and constants are included to simplify the mathematical evaluation of functions."
   ]
  },
  {
   "cell_type": "code",
   "execution_count": 21,
   "metadata": {},
   "outputs": [
    {
     "name": "stdout",
     "output_type": "stream",
     "text": [
      "[0, 1, 2, 3, 4, 5, 6, 0, 1, 2, 3, 4, 5, 6]\n",
      "[ 0  2  4  6  8 10 12]\n"
     ]
    }
   ],
   "source": [
    "#The import command brings the package to our workspace, the \"as\" keyword allows us to rename it.\n",
    "import numpy as np\n",
    "#We try to multiply a list\n",
    "my_list = [0,1,2,3,4,5,6]\n",
    "print(my_list*2)\n",
    "my_array = np.array(my_list)\n",
    "print(my_array*2)"
   ]
  },
  {
   "cell_type": "code",
   "execution_count": null,
   "metadata": {},
   "outputs": [],
   "source": [
    "#We can create numpy arrays "
   ]
  },
  {
   "cell_type": "code",
   "execution_count": 29,
   "metadata": {},
   "outputs": [
    {
     "name": "stdout",
     "output_type": "stream",
     "text": [
      "[0.  0.1 0.2 0.3 0.4 0.5 0.6 0.7 0.8 0.9 1.  1.1 1.2 1.3 1.4 1.5 1.6 1.7\n",
      " 1.8 1.9 2.  2.1 2.2 2.3 2.4 2.5 2.6 2.7 2.8 2.9 3.  3.1 3.2 3.3 3.4 3.5\n",
      " 3.6 3.7 3.8 3.9 4.  4.1 4.2 4.3 4.4 4.5 4.6 4.7 4.8 4.9 5.  5.1 5.2 5.3\n",
      " 5.4 5.5 5.6 5.7 5.8 5.9 6.  6.1 6.2 6.3 6.4 6.5 6.6 6.7 6.8 6.9 7.  7.1\n",
      " 7.2 7.3 7.4 7.5 7.6 7.7 7.8 7.9 8.  8.1 8.2 8.3 8.4 8.5 8.6 8.7 8.8 8.9\n",
      " 9.  9.1 9.2 9.3 9.4 9.5 9.6 9.7 9.8 9.9]\n",
      "[ 0.   0.1  0.2  0.3  0.4  0.5  0.6  0.7  0.8  0.9  1.   1.1  1.2  1.3\n",
      "  1.4  1.5  1.6  1.7  1.8  1.9  2.   2.1  2.2  2.3  2.4  2.5  2.6  2.7\n",
      "  2.8  2.9  3.   3.1  3.2  3.3  3.4  3.5  3.6  3.7  3.8  3.9  4.   4.1\n",
      "  4.2  4.3  4.4  4.5  4.6  4.7  4.8  4.9  5.   5.1  5.2  5.3  5.4  5.5\n",
      "  5.6  5.7  5.8  5.9  6.   6.1  6.2  6.3  6.4  6.5  6.6  6.7  6.8  6.9\n",
      "  7.   7.1  7.2  7.3  7.4  7.5  7.6  7.7  7.8  7.9  8.   8.1  8.2  8.3\n",
      "  8.4  8.5  8.6  8.7  8.8  8.9  9.   9.1  9.2  9.3  9.4  9.5  9.6  9.7\n",
      "  9.8  9.9 10. ]\n"
     ]
    }
   ],
   "source": [
    "#We can also create an array using either arange or linspace\n",
    "x1=np.arange(0,10,0.1)\n",
    "x2=np.linspace(0,10,101)\n",
    "print(x1)\n",
    "print(x2)"
   ]
  },
  {
   "cell_type": "code",
   "execution_count": 31,
   "metadata": {},
   "outputs": [],
   "source": [
    "#Why would we want that? Because most of the functions we use on a day to day basis use that space.\n",
    "\n",
    "y1=x1**2\n",
    "y2=np.exp(-x2)\n",
    "\n"
   ]
  },
  {
   "cell_type": "code",
   "execution_count": 37,
   "metadata": {},
   "outputs": [
    {
     "ename": "NameError",
     "evalue": "name 'random' is not defined",
     "output_type": "error",
     "traceback": [
      "\u001b[1;31m---------------------------------------------------------------------------\u001b[0m",
      "\u001b[1;31mNameError\u001b[0m                                 Traceback (most recent call last)",
      "\u001b[1;32m<ipython-input-37-769d807c094e>\u001b[0m in \u001b[0;36m<module>\u001b[1;34m\u001b[0m\n\u001b[0;32m     22\u001b[0m \u001b[1;32mfor\u001b[0m \u001b[0mi\u001b[0m \u001b[1;32min\u001b[0m \u001b[0mrange\u001b[0m\u001b[1;33m(\u001b[0m\u001b[0mtotal_random_numbers\u001b[0m\u001b[1;33m)\u001b[0m\u001b[1;33m:\u001b[0m\u001b[1;33m\u001b[0m\u001b[1;33m\u001b[0m\u001b[0m\n\u001b[0;32m     23\u001b[0m     \u001b[1;31m# Get the random number for this round.\u001b[0m\u001b[1;33m\u001b[0m\u001b[1;33m\u001b[0m\u001b[1;33m\u001b[0m\u001b[0m\n\u001b[1;32m---> 24\u001b[1;33m     \u001b[0mx\u001b[0m \u001b[1;33m=\u001b[0m \u001b[0mrandom\u001b[0m\u001b[1;33m.\u001b[0m\u001b[0mrandint\u001b[0m\u001b[1;33m(\u001b[0m\u001b[1;36m0\u001b[0m\u001b[1;33m,\u001b[0m \u001b[1;36m99\u001b[0m\u001b[1;33m)\u001b[0m\u001b[1;33m\u001b[0m\u001b[1;33m\u001b[0m\u001b[0m\n\u001b[0m\u001b[0;32m     25\u001b[0m \u001b[1;33m\u001b[0m\u001b[0m\n\u001b[0;32m     26\u001b[0m     \u001b[1;31m# Add one to the count for that number.\u001b[0m\u001b[1;33m\u001b[0m\u001b[1;33m\u001b[0m\u001b[1;33m\u001b[0m\u001b[0m\n",
      "\u001b[1;31mNameError\u001b[0m: name 'random' is not defined"
     ]
    }
   ],
   "source": [
    "# Exercise: let's try to verify that the random number generator is really working. \n",
    "# We want to count how many times we see each value. \n",
    "\n",
    "# To keep track of how many times we see each value, we will introduce the idea of a numpy array\n",
    "# we import numpy as \"np\" since it is shorter, which is nice\n",
    "import numpy as np\n",
    "\n",
    "# To see how good the random number generator is, we will make a very simple plot called a \"histogram\"\n",
    "from matplotlib import pyplot as plt\n",
    "\n",
    "# Each position in the array contains the count for that number.\n",
    "# We want to keep of 100 positions. When we are done with this computation, the value at position 10 \n",
    "# will be the number of times the random number generator chose the number 10. etc. \n",
    "counts = np.zeros(100)  # All the values start as 0.\n",
    "\n",
    "# We will pick a random number 10000 times!\n",
    "total_random_numbers = 10000\n",
    "\n",
    "# This is a simple way of looping in python: the range() command will go through all the numbers \n",
    "# from 0 up to total_random_numbers - 1. This is 10000 total numbers!\n",
    "# In each run of the loop, the variable i will be set to the next number until we get to the last one.\n",
    "for i in range(total_random_numbers):\n",
    "    # Get the random number for this round. \n",
    "    x = random.randint(0, 99)\n",
    "    \n",
    "    # Add one to the count for that number.\n",
    "    counts[x] = counts[x] + 1\n",
    "    \n",
    "# Now we are done with the loop!\n",
    "\n",
    "# Let's look at how many times we saw each value. \n",
    "# The easiest way to do this it to make a plot. We want to plot the number\n",
    "# against the number of times it was chosen. Remember that there are 100 total\n",
    "# numbers and we ran the loop 10000 times, so we should see each number 100 times.\n",
    "plt.scatter(np.arange(100), counts)\n",
    "\n",
    "# We can make a horizontal line at y=100 to show where we expect the average to be.\n",
    "plt.axhline(100)\n",
    "\n",
    "# We can change the Y axis to show a wider range\n",
    "plt.ylim(0, 200)\n",
    "\n",
    "# We can label our axes for clarity and even set the fontsize\n",
    "plt.ylabel('Number of Times Chosen', fontsize=16)\n",
    "plt.xlabel('Numeric Value', fontsize=16)\n",
    "\n",
    "# Show the pretty picture! Notice that the random number generator seems to be working!\n",
    "plt.show()"
   ]
  }
 ],
 "metadata": {
  "kernelspec": {
   "display_name": "Python 3",
   "language": "python",
   "name": "python3"
  },
  "language_info": {
   "codemirror_mode": {
    "name": "ipython",
    "version": 3
   },
   "file_extension": ".py",
   "mimetype": "text/x-python",
   "name": "python",
   "nbconvert_exporter": "python",
   "pygments_lexer": "ipython3",
   "version": "3.7.3"
  }
 },
 "nbformat": 4,
 "nbformat_minor": 2
}

{
 "cells": [
  {
   "cell_type": "markdown",
   "metadata": {},
   "source": [
    "# Python Review\n",
    "Welcome! First of all; this document is meant to serve as a complement to your previous knowledge obtained from the khan academy videos not a supplement. Though the notebook will be written to be as clear as possible; some previous programming experience is recommended in order to understand this notebook with greater ease.\n",
    "\n",
    "## What is Python?\n",
    "Python is an interpreted, high-level general-purpose programming language.\n",
    "\n",
    "Interpreted: This means the code done on Python can be run by the interpreter directly rather than being compiled into machine language code and then executed.\n",
    "\n",
    "High-level: Usually represents how abstracted the syntax is from computer language or how similar it is to natural language (our language). High level means its syntax is very user-friendly (even among high level languages Python is known to have a very friendly syntax).\n",
    "\n",
    "General-purpose: It can be used on many applications; from website development to mobile applications (Just because something is general purpose doesn't mean it SHOULD be used on everything).\n",
    "\n",
    "In short; Python is a programming language that is very easy to learn (due to friendly syntax), simple to run (we have an interpreter) that can allows us to work in various fields and applications due to its versatility (general purpose). Currently; this language is among the top 3 most popular in the world and it owes this position to its open-source status meaning that anyone can contribute to the proyect with their own packages. \n",
    "\n",
    "## Now we start the review. Variables and basic arithmetic.\n",
    "A variable is a way that data can be stored and referenced in a program; this data can vary greately from variable to variable and it's usually essential for the functioning of the program. For the user of the program that's pretty much it but for the programmer it also provides labels to the data in order to make the code more readable (this is something crucial not just in Python but in any language). "
   ]
  },
  {
   "cell_type": "code",
   "execution_count": 8,
   "metadata": {},
   "outputs": [
    {
     "name": "stdout",
     "output_type": "stream",
     "text": [
      "5\n",
      "4\n",
      "Hello!\n"
     ]
    }
   ],
   "source": [
    "#Anything written beside the numeral sign is a comment.\n",
    "'''\n",
    "This is a multi-line\n",
    "comment\n",
    "'''\n",
    "\n",
    "#In order to define a variable; we first type its name, then we use the equal sign to declare the variable and then the value.\n",
    "number=5\n",
    "#The print command displays the value of its argument.\n",
    "print(number)\n",
    "#If we reassign the value of the variable, it is simply overwritten\n",
    "number=4\n",
    "print(number)\n",
    "#In order to define text (strings) in Python we can use either \"\" or ''\n",
    "text=\"Hello!\"\n",
    "print(text)"
   ]
  },
  {
   "cell_type": "code",
   "execution_count": 2,
   "metadata": {},
   "outputs": [
    {
     "name": "stdout",
     "output_type": "stream",
     "text": [
      "31.5\n",
      "0.89\n",
      "3091.17\n",
      "12.5\n",
      "100\n",
      "3\n"
     ]
    }
   ],
   "source": [
    "### Basic Arithmetic operations.\n",
    "#Addition\n",
    "print(21.4+10.1)\n",
    "#Subtraction\n",
    "print(round(10.7-9.81,3))\n",
    "#Multiplication\n",
    "print(61.7*50.1)\n",
    "#Division\n",
    "print(75/6)\n",
    "#Exponents\n",
    "print(10**2)\n",
    "#Modular operator\n",
    "print(15%6)"
   ]
  },
  {
   "cell_type": "markdown",
   "metadata": {},
   "source": [
    "The order of operations is the same as we have been taught in elementary school; Parenthesis, Exponent, Multiplication, Division, Addition and Subtraction. If you would like to verify that it's the case then you can start by using the Python cells to try out your own equations!\n",
    "\n",
    "### Exercises\n",
    "\n",
    "Calculate the solution to these problems using Python and verify the answers (round the answers to the most significant digit).\n",
    "\\begin{align}\n",
    "(5*(10+2)\\div 30)^2=4 \\\\ (5-25)^2+3-2*9=385 \\\\ (42.3*17.2)^{1.5}-66.5 \\approx 19558.2 \n",
    "\\end{align}"
   ]
  },
  {
   "cell_type": "code",
   "execution_count": 7,
   "metadata": {},
   "outputs": [
    {
     "name": "stdout",
     "output_type": "stream",
     "text": [
      "4.0\n",
      "385\n",
      "19558.20880948851\n"
     ]
    }
   ],
   "source": [
    "print((5*(10+2)/30)**2)\n",
    "print((5-25)**2+3-2*9)\n",
    "print((42.3*17.2)**1.5-66.5)"
   ]
  },
  {
   "cell_type": "markdown",
   "metadata": {},
   "source": [
    "## A more complete perspective on variables.\n",
    "\n",
    "We have defined previously that a variable is something used to store and reference information and while that is true; it's often useful to abstract the concept of a variable into something more familiar like an object (If anyone here has seen object oriented programming, this is equivalent to the pre-pre-introduction and you can skip this section). \n",
    "\n",
    "An object in the simplest sense is something that is labeled, has certain properties and can be manipulated in certain ways. Of course this definition is lacking for many objects but for the \"objects\" we see in programming this suffices; the variable has a lable that depends on the data type it contains within, in order to see this label we use the type function in Python with 3 different variable types to see what it is."
   ]
  },
  {
   "cell_type": "code",
   "execution_count": 3,
   "metadata": {},
   "outputs": [
    {
     "name": "stdout",
     "output_type": "stream",
     "text": [
      "(<class 'int'>, <class 'float'>, <class 'str'>)\n"
     ]
    }
   ],
   "source": [
    "# Let's start by defining 3 different variables, a value is assigned to a variable using the equal sign.\n",
    "x=3\n",
    "y=4.3\n",
    "z=\"Hello\"\n",
    "# Now we apply the type function to all 3 and print the result.\n",
    "print((type(x),type(y),type(z)))"
   ]
  },
  {
   "cell_type": "markdown",
   "metadata": {},
   "source": [
    "The output of the type function is a class and the name corresponding to said class; that name is what we were looking for as a label but now we face the concept of class. A class can be seen as the blueprint of an object; that is, it contains the basic structure of a data type, defines its properties and the way it can be manipulated. This is useful because if we know an object belongs to a certain class; we can find out its properties and the way it can be transformed."
   ]
  },
  {
   "cell_type": "markdown",
   "metadata": {},
   "source": [
    "![title](img\\classmeth.gif)"
   ]
  },
  {
   "cell_type": "markdown",
   "metadata": {},
   "source": [
    "If we wish to inspect the properties and methods of a variable, we can use the dir() function to do so. This will return a large list of functions and properties which we can then use to manipulate our data; most of them won't be necesarry but it's useful to know since it can save a lot of time in seraching for a solution."
   ]
  },
  {
   "cell_type": "code",
   "execution_count": 4,
   "metadata": {},
   "outputs": [
    {
     "name": "stdout",
     "output_type": "stream",
     "text": [
      "['__abs__', '__add__', '__and__', '__bool__', '__ceil__', '__class__', '__delattr__', '__dir__', '__divmod__', '__doc__', '__eq__', '__float__', '__floor__', '__floordiv__', '__format__', '__ge__', '__getattribute__', '__getnewargs__', '__gt__', '__hash__', '__index__', '__init__', '__init_subclass__', '__int__', '__invert__', '__le__', '__lshift__', '__lt__', '__mod__', '__mul__', '__ne__', '__neg__', '__new__', '__or__', '__pos__', '__pow__', '__radd__', '__rand__', '__rdivmod__', '__reduce__', '__reduce_ex__', '__repr__', '__rfloordiv__', '__rlshift__', '__rmod__', '__rmul__', '__ror__', '__round__', '__rpow__', '__rrshift__', '__rshift__', '__rsub__', '__rtruediv__', '__rxor__', '__setattr__', '__sizeof__', '__str__', '__sub__', '__subclasshook__', '__truediv__', '__trunc__', '__xor__', 'bit_length', 'conjugate', 'denominator', 'from_bytes', 'imag', 'numerator', 'real', 'to_bytes']\n",
      "4\n"
     ]
    }
   ],
   "source": [
    "print(dir(x))\n",
    "print(x.__rfloordiv__(14))"
   ]
  },
  {
   "cell_type": "markdown",
   "metadata": {},
   "source": [
    "## Review on conditional statements and control flow\n",
    "Now that we know the basic types of variables and operations; we can now view a slightly more advanced and useful tool known as conditional statements. A conditional statement is a logical statement in which one or more conditions are evaluated using comparative and logical operators which then returns a value of either True or False. This is one of the building blocks of both Python and most programming languages since the output is essentially a 1 or a 0; basically allowing our code to work for multiple situations.\n",
    "\n",
    "Now; on a basic level a condition can be built using solely 1 comparative operator; however, if we want to increase the complexity of a condition (Ex. I want my number x to be greater than 5 but smaller than 10). Then we introduce a logical operator; this in turn will make sure that no matter the amount of conditions, we'll always recover 1 output.\n",
    "\n",
    "The control flow in Python is done using 3 keywords (if, elif, else). The if statement opens the control flow and is followed by the first condition we want to evaluate; if the condition is true then we run the code under the if statement; however, if the code is false then it skips to the next keyword if any. Depending on the value of our variable we might want to do other things; thus this is when elif comes into play (else if); the else if keyword activates when the previous expression isn't true and functions exactly like an if. You give it an expression; if it's true, then run the code under it, otherwise jsut skip into the next keyword.\n",
    "\n",
    "The else keyword is used to finish the control flow of the code; no condition has to be added to this word but the keywords if and elif must've been used. This keyword activates whenever none of the previous expressions are true which allows for the complete coverage of probable values (the complementary space).\n",
    "\n",
    "### Pseudocode (Thinking structure)\n",
    "if (expression is true):\n",
    "\n",
    "    run this\n",
    "    \n",
    "otherwise if (expression is true and last one is false):\n",
    "\n",
    "    run this\n",
    "    \n",
    "otherwise if ( expression is true and both last ones are false):\n",
    "    \n",
    "    run this\n",
    "    \n",
    "else (if every previous expression is false)\n",
    "    \n",
    "    run this\n",
    "end\n",
    "\n",
    "### How do we build conditional statements?\n",
    "We build them by using comparative and logical operators; an statement can be built using one or more comparative operators and they usually compare numbers (although some operators inspect if the objects contain the same information or if they are the same instance of the class). The basic comparative operators are...\n",
    "\n",
    "x < 5 (x less than 5)\n",
    "\n",
    "x > 5 (x greater than 5)\n",
    "\n",
    "x <= 5 (x smaller or equal than 5)\n",
    "\n",
    "x >= 5 (x greater or equal than 5)\n",
    "\n",
    "x == 5 (x equal to 5)\n",
    "\n",
    "x != 5 (x not equal to 5)\n",
    "\n",
    "These expressions return a value of either true or false (1 or 0).\n",
    "\n",
    "#### logical operators \n",
    "If we wish to combine 2 or more comparative operators; we can do so via the use of logical operators. In many programming languages the logical operators (and, not, or, xor) are usually represented by symbols; in Python, these can be written in their English form and Python will understand what's happening. The basic logical operators are the following....\n",
    "\n",
    "And: both expressions have to be true in order to return a value of True.\n",
    "\n",
    "Example: (5 < 6 and 1 > 2) = False.    (5 < 6 and 1 <2) = True.\n",
    "\n",
    "Or: Only one of the expressions has to be true in order to return a value of True.\n",
    "\n",
    "Example: (5 < 6 and 1 > 2) = True.    (5 < 6 and 1 <2) = True.\n",
    "\n",
    "Not: Returns the opposite of the condition.\n",
    "\n",
    "x=5   (not x==5) = False\n",
    "\n",
    "Xor: Returns true only if both inputs have different values.\n",
    "\n",
    "x=5 (x<6 != x > 4) = False\n",
    "\n",
    "#### Pseudocode\n",
    "\n",
    "if (x < 5 and x > 1):\n",
    "    \n",
    "    run this code\n",
    "    \n",
    "elif (y < 5 or x < 5):\n",
    "\n",
    "    run this code\n",
    "    \n",
    "else:\n",
    "\n",
    "    run this code\n",
    "    \n",
    "### Exercises and examples\n",
    "Ex: Let's assume we have programmed an algorithm that takes an integer x as an input; however, our formula only works for positive numbers. This means that if the user accidentaly wrote the negative sign then we would have an error; we'll write a code that stops the problem in its tracks."
   ]
  },
  {
   "cell_type": "code",
   "execution_count": 12,
   "metadata": {},
   "outputs": [
    {
     "name": "stdout",
     "output_type": "stream",
     "text": [
      "Give me a positive integer.-3\n",
      "Initializing problem for 3\n"
     ]
    }
   ],
   "source": [
    "x=input(\"Give me a positive integer.\")\n",
    "x=int(x)\n",
    "if x > 0:\n",
    "    print(\"Initializing program.\")\n",
    "else:\n",
    "    x=abs(x)\n",
    "    print(\"Initializing problem for {}\".format(x))"
   ]
  },
  {
   "cell_type": "markdown",
   "metadata": {},
   "source": [
    "Conditional exercises pending"
   ]
  },
  {
   "cell_type": "code",
   "execution_count": null,
   "metadata": {},
   "outputs": [],
   "source": [
    "### Write a code that takes a word as an input and returns the length of the word. \n",
    "###If the word has 10 or more words print that it's a long word, otherwise, print that it's a regular word.\n",
    "\n",
    "\n",
    "### Write a code that takes as an input 3 integers. Then it prints the relationship between each of them\n",
    "### Ex. a is greater than b, b is smaller than c, a is equal to c.\n"
   ]
  },
  {
   "cell_type": "code",
   "execution_count": 1,
   "metadata": {},
   "outputs": [
    {
     "name": "stdout",
     "output_type": "stream",
     "text": [
      "Write a word!long\n",
      "long is a regular word.\n",
      "Write the first integer.3\n",
      "Write the second integer.2\n",
      "Write the third integer.1\n",
      "3 is greater than 2\n"
     ]
    }
   ],
   "source": [
    "### Practice Exercise solutions\n",
    "x=input(\"Write a word!\")\n",
    "if len(x) >= 10:\n",
    "    print(\"{} is a long word!\".format(x))\n",
    "else:\n",
    "    print(\"{} is a regular word.\".format(x))\n",
    "x1=input(\"Write the first integer.\")\n",
    "x2=input(\"Write the second integer.\")\n",
    "x3=input(\"Write the third integer.\")\n",
    "if (x1 > x2):\n",
    "    print(\"{} is greater than {}\".format(x1, x2))\n",
    "elif (x1 < x2):\n",
    "    print(\"{} is greater than {}\".format(x2, x1))\n",
    "else:\n",
    "    print(\"{} and {} are equal\".format(x2, x1))\n",
    "### Continue the solution once Avi checks this."
   ]
  },
  {
   "cell_type": "markdown",
   "metadata": {},
   "source": [
    "## Loops\n",
    "Another important part of the python syntax involves looping; which by itself is an essential tool in any programming language. Programming in general is done in order to relegate complex tasks to machines; however, it's also there to relegate simple yet repetitive tasks. Loops help us repeat a process over and over; thus, saving us a large amount of time we would use to write the code over and over again. Just like in the conditional statements there are reserved keywords that are used to initiate the loop environment (for and while); these work in a similar manner but they do have their differences.\n",
    "\n",
    "While: The while statement works very similar to an if (it takes as an input a boolean expression). The indented code will then be run until the boolean expression keeps being true; though it is very useful it's also dangerous since we're at a huge risk of running the code forever if we aren't careful.\n",
    "\n",
    "#### Pseudocode\n",
    "\n",
    "while (this is true):\n",
    "\n",
    "    do stuff\n",
    "    modify variable in conditional\n",
    "\\\\\\\\\\\\\\\\\\\\\\\\\\\\\\\\\\\\    \n",
    "x=5\n",
    "\n",
    "while x <10:\n",
    "\n",
    "    print(x)\n",
    "    x=x+1\n",
    "\n",
    "### Lists and For loops.\n",
    "One of the most useful data types in basic Python are list. Lists are a data structure which can contain many elements of different data types which can range from integers, floats, strings to even other lists. This allows us an easy and reliable way to store and access multiple values while having them solely in a \n"
   ]
  }
 ],
 "metadata": {
  "kernelspec": {
   "display_name": "Python 3",
   "language": "python",
   "name": "python3"
  },
  "language_info": {
   "codemirror_mode": {
    "name": "ipython",
    "version": 3
   },
   "file_extension": ".py",
   "mimetype": "text/x-python",
   "name": "python",
   "nbconvert_exporter": "python",
   "pygments_lexer": "ipython3",
   "version": "3.7.3"
  }
 },
 "nbformat": 4,
 "nbformat_minor": 2
}

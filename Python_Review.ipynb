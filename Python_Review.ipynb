{
 "cells": [
  {
   "cell_type": "markdown",
   "metadata": {},
   "source": [
    "# Python Review\n",
    "Welcome! First of all; this document is meant to serve as a complement to your previous knowledge obtained from the khan academy videos not a supplement. Though the notebook will be written to be as clear as possible; some previous programming experience is recommended in order to understand this notebook with greater ease.\n",
    "\n",
    "## What is Python?\n",
    "Python is an interpreted, high-level general-purpose programming language.\n",
    "\n",
    "Interpreted: This means the code done on Python can be run by the interpreter directly rather than being compiled into machine language code and then executed.\n",
    "\n",
    "High-level: Usually represents how abstracted the syntax is from computer language or how similar it is to natural language (our language). High level means its syntax is very user-friendly (even among high level languages Python is known to have a very friendly syntax).\n",
    "\n",
    "General-purpose: It can be used on many applications; from website development to mobile applications (Just because something is general purpose doesn't mean it SHOULD be used on everything).\n",
    "\n",
    "In short; Python is a programming language that is very easy to learn (due to friendly syntax), simple to run (we have an interpreter) that can allows us to work in various fields and applications due to its versatility (general purpose). Currently; this language is among the top 3 most popular in the world and it owes this position to its open-source status, this means that anyone can develop a Python package and share it with the world.\n",
    "\n",
    "## Let's review the basics! What is a variable in programming?\n",
    "\n",
    "A variable is defined as a container and label for information; that is, it allows us to store data in it in order to reference it and use it again in the future be it to modify it or just access it.\n",
    "\n",
    "When we start programming; having a bit of abstraction tends to help a lot in the learning. First off, imagine that you have a random variable (not a randomly distributed number, just a variable we found); how can we learn more about that variable? In Python, we have the type() function which takes any variable as an argument and returns some information about the variable."
   ]
  },
  {
   "cell_type": "code",
   "execution_count": 4,
   "metadata": {},
   "outputs": [
    {
     "name": "stdout",
     "output_type": "stream",
     "text": [
      "(<class 'int'>, <class 'float'>, <class 'str'>)\n"
     ]
    }
   ],
   "source": [
    "# Let's start by defining 3 different variables.\n",
    "x=3\n",
    "y=4.3\n",
    "z=\"Hello\"\n",
    "# Now we apply the type function to all 3 and print the result.\n",
    "print((type(x),type(y),type(z)))"
   ]
  },
  {
   "cell_type": "markdown",
   "metadata": {},
   "source": [
    "To get even more abstract; we can imagine the variable as being an object, this object has a particular label (the class) which for everyday objects might be a car, a book, a dog, etc. These objects have certain intrinsic properties (attributes) and certain functions (called methods) that work only with that particular class. The following image shows the concepts of objects, methods and properties in a more visual and relateable manner."
   ]
  },
  {
   "cell_type": "markdown",
   "metadata": {},
   "source": [
    "![title](img\\classmeth.gif)"
   ]
  },
  {
   "cell_type": "markdown",
   "metadata": {},
   "source": [
    "If we wish to inspect the properties and methods of a variable, we can use the dir() function to do so. This will return a large list of functions and properties which we can then use to manipulate our data; most of them won't be necesarry but it's useful to know since it can save a lot of time in seraching for a solution."
   ]
  },
  {
   "cell_type": "code",
   "execution_count": 32,
   "metadata": {},
   "outputs": [
    {
     "name": "stdout",
     "output_type": "stream",
     "text": [
      "['__abs__', '__add__', '__and__', '__bool__', '__ceil__', '__class__', '__delattr__', '__dir__', '__divmod__', '__doc__', '__eq__', '__float__', '__floor__', '__floordiv__', '__format__', '__ge__', '__getattribute__', '__getnewargs__', '__gt__', '__hash__', '__index__', '__init__', '__init_subclass__', '__int__', '__invert__', '__le__', '__lshift__', '__lt__', '__mod__', '__mul__', '__ne__', '__neg__', '__new__', '__or__', '__pos__', '__pow__', '__radd__', '__rand__', '__rdivmod__', '__reduce__', '__reduce_ex__', '__repr__', '__rfloordiv__', '__rlshift__', '__rmod__', '__rmul__', '__ror__', '__round__', '__rpow__', '__rrshift__', '__rshift__', '__rsub__', '__rtruediv__', '__rxor__', '__setattr__', '__sizeof__', '__str__', '__sub__', '__subclasshook__', '__truediv__', '__trunc__', '__xor__', 'bit_length', 'conjugate', 'denominator', 'from_bytes', 'imag', 'numerator', 'real', 'to_bytes']\n",
      "4\n"
     ]
    }
   ],
   "source": [
    "print(dir(x))\n",
    "print(x.__rfloordiv__(14))"
   ]
  },
  {
   "cell_type": "markdown",
   "metadata": {},
   "source": [
    "## Printing and basic arithmetic\n",
    "Now that we know what's a variable, how to classify it and how to manipulate it. We can begin by viewing the simplest methods and operations there are which correspond to the print method and the operations in PEMDAS (mainly explaining the mathematical syntax in Python). The print method as we have seen before; displays the data in its argument; if the argument is a variable then it shows the value of said variable, if it's an operation then the result is displayed and if the argument is text it just shows it unmodified."
   ]
  },
  {
   "cell_type": "code",
   "execution_count": 33,
   "metadata": {},
   "outputs": [
    {
     "name": "stdout",
     "output_type": "stream",
     "text": [
      "Hello CDCMX\n"
     ]
    }
   ],
   "source": [
    "print(\"Hello CDCMX\")"
   ]
  },
  {
   "cell_type": "code",
   "execution_count": 34,
   "metadata": {},
   "outputs": [
    {
     "name": "stdout",
     "output_type": "stream",
     "text": [
      "4\n",
      "8\n",
      "35\n",
      "5.333333333333333\n",
      "16\n",
      "6\n"
     ]
    }
   ],
   "source": [
    "print(2+2)\n",
    "print(10-2)\n",
    "print(5*7)\n",
    "print(16/3)\n",
    "print(4**2)\n",
    "print(16%10)"
   ]
  }
 ],
 "metadata": {
  "kernelspec": {
   "display_name": "Python 3",
   "language": "python",
   "name": "python3"
  },
  "language_info": {
   "codemirror_mode": {
    "name": "ipython",
    "version": 3
   },
   "file_extension": ".py",
   "mimetype": "text/x-python",
   "name": "python",
   "nbconvert_exporter": "python",
   "pygments_lexer": "ipython3",
   "version": "3.7.3"
  }
 },
 "nbformat": 4,
 "nbformat_minor": 2
}
